{
 "cells": [
  {
   "cell_type": "markdown",
   "metadata": {},
   "source": [
    "## Questions/Comments for Project Presentations "
   ]
  },
  {
   "cell_type": "markdown",
   "metadata": {},
   "source": [
    "1. Dinosaurs - How does the geographical location change for these dinosaurs since the continents looked very different millions years ago \n",
    "\n",
    "2. Cetacea - Looking to correlate brain size with body size and trying to see if this results in a higher survival rate  \n",
    "\n",
    "3. Canis - Most of the species in this taxon are extant   \n",
    "\n",
    "4. Chiroptera - Bats are located on all seven continents but they are primarily located near the equator in South America (tropical climates)\n",
    "\n",
    "5. Autism Data - Used demographics data and assessment data - Autism severity and the age of diagnosis, with more severe Autism being diagnosed much earily on  \n",
    "\n",
    "6. Equidae - Sudden extinction closer to the modern era, does the extinction rate/speciation rate for Equidae correlate with plant diversity?  \n",
    "\n",
    "7. Seagrass - Why have seagrasses become more invasive over the years? How far are these invasive species travelling?   \n",
    "\n",
    "8. Canidae - Only one extant family today, why might this be the case? \n",
    "\n",
    "9. Trogones (Tropical Birds) - Why have these species become restricted to the tropical areas today?  \n",
    "\n",
    "10. Aves - The two longest range of birds were contained in a relatively small geographic location, why do you think they didn't migrate to other areas? What made Saudi Arabia or South Korean preferable for these species?  \n",
    "\n",
    "11. Anura - Do you expect a decline in extant species due to the new fungus that is affecting the frog species?  \n",
    "\n",
    "12. Heteromyidae - Why do you think there was jump in extinction rates? \n",
    "\n",
    "13. Felidae - How do you plan on disproving the Miocene explosion because fossil occurrences can be biased and the net diversication rate may only show an increase due to biased findings in the fossils? \n",
    "\n",
    "14. Mustelidae - Steep decline in speciation in recent times, why might have caused this?  "
   ]
  },
  {
   "cell_type": "code",
   "execution_count": null,
   "metadata": {
    "collapsed": true
   },
   "outputs": [],
   "source": []
  }
 ],
 "metadata": {
  "anaconda-cloud": {},
  "kernelspec": {
   "display_name": "Python [conda root]",
   "language": "python",
   "name": "conda-root-py"
  },
  "language_info": {
   "codemirror_mode": {
    "name": "ipython",
    "version": 3
   },
   "file_extension": ".py",
   "mimetype": "text/x-python",
   "name": "python",
   "nbconvert_exporter": "python",
   "pygments_lexer": "ipython3",
   "version": "3.5.2"
  }
 },
 "nbformat": 4,
 "nbformat_minor": 2
}
