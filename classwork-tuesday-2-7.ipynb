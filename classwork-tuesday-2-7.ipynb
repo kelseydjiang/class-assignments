{
 "cells": [
  {
   "cell_type": "markdown",
   "metadata": {
    "collapsed": true
   },
   "source": [
    "## Defining a programming challenge \n",
    "**Example**: Write a program that asks the user for a temperature in Fahrenheit and prints out the same temperature in Celsius "
   ]
  },
  {
   "cell_type": "markdown",
   "metadata": {},
   "source": [
    "xx = user input of a temp in F  \n",
    "yy = convert xx to C  \n",
    "print yy  "
   ]
  },
  {
   "cell_type": "code",
   "execution_count": 3,
   "metadata": {
    "collapsed": false
   },
   "outputs": [
    {
     "name": "stdout",
     "output_type": "stream",
     "text": [
      "What is the temperature in Fahrenheit?76\n",
      "The temperature in C is 24.444444444444443\n"
     ]
    }
   ],
   "source": [
    "temp = input(\"What is the temperature in Fahrenheit?\")\n",
    "cels = (float(temp) -32) * 5/9 \n",
    "print(\"The temperature in C is {}\".format(cels))"
   ]
  },
  {
   "cell_type": "code",
   "execution_count": 16,
   "metadata": {
    "collapsed": false
   },
   "outputs": [
    {
     "name": "stdout",
     "output_type": "stream",
     "text": [
      "5 8\n",
      "[5, 8]\n",
      "[5, 8]\n",
      "[1, 1, 2, 3, 5, 8, 13]\n",
      "[13, 8, 5, 3, 2, 1, 1]\n",
      "{'a': '.-', 'd': '-..', 'c': '-.-.', 'b': '-...'}\n"
     ]
    }
   ],
   "source": [
    "a = [1,1,2,3,5,8]\n",
    "print(a[4], a[5])\n",
    "print(a[-2:])\n",
    "print(a[4:6])\n",
    "a.append(13)\n",
    "print(a)\n",
    "a.reverse()\n",
    "print(a)\n",
    "m = {\"a\":\".-\", \"b\":\"-...-\", \"c\":'-.-.'}\n",
    "m[\"d\"] = \"-..\"\n",
    "m[\"b\"] = \"-...\"\n",
    "print(m)"
   ]
  },
  {
   "cell_type": "code",
   "execution_count": 20,
   "metadata": {
    "collapsed": false
   },
   "outputs": [
    {
     "data": {
      "text/plain": [
       "{'Arabidopsis thaliana': 157.0,\n",
       " 'Homo sapiens': 3200.0,\n",
       " 'escherichia coli': 4.6}"
      ]
     },
     "execution_count": 20,
     "metadata": {},
     "output_type": "execute_result"
    }
   ],
   "source": [
    "my_dict = {}\n",
    "# string, floats or even lists can be values in a dictionary\n",
    "my_dict = {\"a\": \"test\", \"b\": 3.14, \"c\": [1,2,3,4]}\n",
    "GenomeSize = {\"Homo sapiens\": 3200.0, \"escherichia coli\": 4.6, \"Arabidopsis thaliana\": 157.0}\n",
    "# A dictionary has no natural order (i.e., the order of key-value input does not matter)\n",
    "GenomeSize"
   ]
  },
  {
   "cell_type": "code",
   "execution_count": 21,
   "metadata": {
    "collapsed": false
   },
   "outputs": [
    {
     "data": {
      "text/plain": [
       "3200.0"
      ]
     },
     "execution_count": 21,
     "metadata": {},
     "output_type": "execute_result"
    }
   ],
   "source": [
    "GenomeSize[\"Homo sapiens\"]"
   ]
  },
  {
   "cell_type": "code",
   "execution_count": 24,
   "metadata": {
    "collapsed": true
   },
   "outputs": [],
   "source": [
    "fam_dict = {\"mom\": \"Ran\", \"dad\": \"Jing\"}"
   ]
  },
  {
   "cell_type": "code",
   "execution_count": 25,
   "metadata": {
    "collapsed": false
   },
   "outputs": [
    {
     "name": "stdout",
     "output_type": "stream",
     "text": [
      "Jing\n",
      "Ran\n"
     ]
    }
   ],
   "source": [
    "for key in fam_dict.keys():\n",
    "    print(fam_dict[key])"
   ]
  },
  {
   "cell_type": "code",
   "execution_count": 28,
   "metadata": {
    "collapsed": false
   },
   "outputs": [
    {
     "data": {
      "text/plain": [
       "dict_items([('dad', 'Jing'), ('mom', 'Ran')])"
      ]
     },
     "execution_count": 28,
     "metadata": {},
     "output_type": "execute_result"
    }
   ],
   "source": [
    "fam_dict.items()"
   ]
  },
  {
   "cell_type": "code",
   "execution_count": 29,
   "metadata": {
    "collapsed": false
   },
   "outputs": [
    {
     "name": "stdout",
     "output_type": "stream",
     "text": [
      "('dad', 'Jing')\n",
      "('mom', 'Ran')\n"
     ]
    }
   ],
   "source": [
    "for pair in fam_dict.items():\n",
    "    print(pair)"
   ]
  },
  {
   "cell_type": "code",
   "execution_count": 31,
   "metadata": {
    "collapsed": false
   },
   "outputs": [
    {
     "name": "stdout",
     "output_type": "stream",
     "text": [
      "dad Jing\n",
      "mom Ran\n"
     ]
    }
   ],
   "source": [
    "for key, value in fam_dict.items():\n",
    "    print(key, value)"
   ]
  },
  {
   "cell_type": "code",
   "execution_count": 32,
   "metadata": {
    "collapsed": false
   },
   "outputs": [
    {
     "data": {
      "text/plain": [
       "'Jing'"
      ]
     },
     "execution_count": 32,
     "metadata": {},
     "output_type": "execute_result"
    }
   ],
   "source": [
    "list(fam_dict.items())[0][1]"
   ]
  },
  {
   "cell_type": "markdown",
   "metadata": {},
   "source": [
    "## Use a list to walk through your family dictionary in reverse alphabetical order of the keys"
   ]
  },
  {
   "cell_type": "code",
   "execution_count": 36,
   "metadata": {
    "collapsed": false
   },
   "outputs": [
    {
     "data": {
      "text/plain": [
       "['dad', 'mom']"
      ]
     },
     "execution_count": 36,
     "metadata": {},
     "output_type": "execute_result"
    }
   ],
   "source": [
    "relatives = list(fam_dict.keys())\n",
    "relatives"
   ]
  },
  {
   "cell_type": "code",
   "execution_count": 38,
   "metadata": {
    "collapsed": false
   },
   "outputs": [
    {
     "name": "stdout",
     "output_type": "stream",
     "text": [
      "['mom', 'dad']\n"
     ]
    }
   ],
   "source": [
    "relatives = list(fam_dict.keys())\n",
    "relatives.reverse()\n",
    "print(relatives)"
   ]
  },
  {
   "cell_type": "code",
   "execution_count": 40,
   "metadata": {
    "collapsed": false
   },
   "outputs": [
    {
     "name": "stdout",
     "output_type": "stream",
     "text": [
      "['mom', 'dad']\n"
     ]
    }
   ],
   "source": [
    "relatives = list(fam_dict.keys())\n",
    "relatives.sort(reverse=True)\n",
    "print(relatives)"
   ]
  },
  {
   "cell_type": "code",
   "execution_count": null,
   "metadata": {
    "collapsed": true
   },
   "outputs": [],
   "source": []
  }
 ],
 "metadata": {
  "anaconda-cloud": {},
  "kernelspec": {
   "display_name": "Python [conda root]",
   "language": "python",
   "name": "conda-root-py"
  },
  "language_info": {
   "codemirror_mode": {
    "name": "ipython",
    "version": 3
   },
   "file_extension": ".py",
   "mimetype": "text/x-python",
   "name": "python",
   "nbconvert_exporter": "python",
   "pygments_lexer": "ipython3",
   "version": "3.5.2"
  }
 },
 "nbformat": 4,
 "nbformat_minor": 2
}
