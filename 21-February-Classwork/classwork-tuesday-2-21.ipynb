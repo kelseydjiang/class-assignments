{
 "cells": [
  {
   "cell_type": "markdown",
   "metadata": {
    "collapsed": true
   },
   "source": [
    "# Guided Exploration of the Data"
   ]
  },
  {
   "cell_type": "markdown",
   "metadata": {},
   "source": [
    "1. Each row in cocoli.txt indicates the tree's respective species code and the data associate with each tree. (Each row is synonymous with a single record)\n",
    "2. Each row in cocolisp.txt indicates a species and its genus/family it belongs too (Defines the species' code)\n",
    "3. mult2 refers to how many stems the tree has based on the second census date.\n",
    "4. dbh2 refers to Diameter to Breast Heigt and the 2 refers to the second measurement taken on the second date. (Diameter of the biggest stem at this time point)\n",
    "5. Find the corresponding code to 000011 in cocoli.txt and then use grep CAL2CA cocolisp.txt\n",
    "6. The scientific name is Calycophyllum candidissimum"
   ]
  },
  {
   "cell_type": "markdown",
   "metadata": {},
   "source": [
    "# Possible Questions"
   ]
  },
  {
   "cell_type": "markdown",
   "metadata": {},
   "source": [
    "-Is there a pattern of stem loss due to climate change?  \n",
    "-Does the number of stems correlate to diameter to breast height? (more stems greater diameter?)   \n",
    "-Does the location in the grid affect population density of specific species?  \n",
    "-Change in growth over time?  1998-1997 or 1997-1994 (You can look at the overall growth in this forest between the years)  "
   ]
  },
  {
   "cell_type": "markdown",
   "metadata": {},
   "source": [
    "1. Piper is the most species rich in this community    \n",
    "2. cut -d',' -f2 formatted_cocolisp.txt | sort | uniq -c | sort -n | grep -w \"1\" | wc -l --> tells us that there are 99 uniq species where there is only one of   \n",
    "3. 127 genera, with 99 of only have one representative  "
   ]
  },
  {
   "cell_type": "markdown",
   "metadata": {},
   "source": [
    "#### Which individual had the highest yearly RGR (relative growth rate) between 1994-1998?"
   ]
  },
  {
   "cell_type": "markdown",
   "metadata": {},
   "source": []
  }
 ],
 "metadata": {
  "anaconda-cloud": {},
  "kernelspec": {
   "display_name": "Python [conda root]",
   "language": "python",
   "name": "conda-root-py"
  },
  "language_info": {
   "codemirror_mode": {
    "name": "ipython",
    "version": 3
   },
   "file_extension": ".py",
   "mimetype": "text/x-python",
   "name": "python",
   "nbconvert_exporter": "python",
   "pygments_lexer": "ipython3",
   "version": "3.5.2"
  }
 },
 "nbformat": 4,
 "nbformat_minor": 2
}
