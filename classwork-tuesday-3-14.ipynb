{
 "cells": [
  {
   "cell_type": "markdown",
   "metadata": {},
   "source": [
    "## Questions/Comments for Project Presentations"
   ]
  },
  {
   "cell_type": "markdown",
   "metadata": {},
   "source": [
    "1. Was Me (Kelsey Jiang)  \n",
    "2. Canis - There are many non-identified species in Canis, that do not have specificity, but scientistis know that it is classified in Canis.  \n",
    "3. Proboscidea - There are only three species (elephants) existing today, significant loss in these species over the years due to the types of food being lost and increase in hunting  \n",
    "4. Comparing Cooperation & Decision Time Between Indian and American Audiences - able to monitor the time it takes to click between buttons and US were ables to cooperate regardless of their social network       \n",
    "5. California Valley Oak - Blocking allows areas to be standardized and get differences between individuals and not areas   \n",
    "6. Squamata - 2nd largest order of extant vertebrates, What does the pre-era and post-era time correlate too?  \n",
    "7. Alligatoridae - Alligatoridae mississippiensis? has been around since it alligators first showed up in the Cretaceous?  \n",
    "8. Pilosa - A lot of the species were charted at 5 million years ago or less, general trend up to the North into North America (this taxon was the sloths)  \n",
    "9. Mammals and Birds - Where is the most overlap between mammals and birds on the fossil map?  \n",
    "10. Haplorhini - Why was there an increase in diversity/species richness as it progress towards more modern eras?  \n",
    "11. Heart Rate Acquistion - Characterize heart rate range based on metabolic thresholds, most people were under their metabolic threshold\n",
    "12. Atherosclerosis - Focusing on birds to find a connection to humans, literature is heavily biased towards turkeys and chickens - Why was birds chosen instead of another species?  \n",
    "13. Circadian rhythm of Blattela Germanica - There was no significant difference between the different wavelengths of light on the cockroaches  \n",
    "14. Feliformia - Why are there so many species but each has a very small time period range?\n",
    "15. American duck carries a strain of Asian influenza - WHY? Asian bird diverged from the American bird - influenza strain probably migrated over because the birds are migratory   "
   ]
  },
  {
   "cell_type": "code",
   "execution_count": null,
   "metadata": {
    "collapsed": true
   },
   "outputs": [],
   "source": []
  }
 ],
 "metadata": {
  "anaconda-cloud": {},
  "kernelspec": {
   "display_name": "Python [conda root]",
   "language": "python",
   "name": "conda-root-py"
  },
  "language_info": {
   "codemirror_mode": {
    "name": "ipython",
    "version": 3
   },
   "file_extension": ".py",
   "mimetype": "text/x-python",
   "name": "python",
   "nbconvert_exporter": "python",
   "pygments_lexer": "ipython3",
   "version": "3.5.2"
  }
 },
 "nbformat": 4,
 "nbformat_minor": 2
}
